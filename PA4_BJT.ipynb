{
 "cells": [
  {
   "cell_type": "markdown",
   "id": "39c1b083",
   "metadata": {},
   "source": [
    "# File name: Programming Assignment 4\n",
    "\n",
    "## Author: Brett Tully\n",
    "\n",
    "### Python Version: 3\n",
    "\n",
    "#### Class: CS-150-02\n",
    "\n",
    "##### Semester: Fall '21"
   ]
  },
  {
   "cell_type": "markdown",
   "id": "ec7c7036",
   "metadata": {},
   "source": [
    "A. "
   ]
  },
  {
   "cell_type": "markdown",
   "id": "d199b8cb",
   "metadata": {},
   "source": [
    "# i. append() \n",
    "\n",
    "append() is used to add an element to the end of a list \n",
    "\n",
    "#### Example below"
   ]
  },
  {
   "cell_type": "code",
   "execution_count": 149,
   "id": "ef7ac955",
   "metadata": {},
   "outputs": [
    {
     "name": "stdout",
     "output_type": "stream",
     "text": [
      "['Ford', 'Mercedes', 'BMW', 'MINI', 'Toyota', 'Range Rover', 'Dodge']\n"
     ]
    }
   ],
   "source": [
    "Car_makes = [\"Ford\", \"Mercedes\", \"BMW\", \"MINI\", \"Toyota\", \"Range Rover\"] \n",
    "Car_makes.append(\"Dodge\")  #append()\n",
    "print(Car_makes)"
   ]
  },
  {
   "cell_type": "markdown",
   "id": "192c4623",
   "metadata": {},
   "source": [
    "# ii. extend()\n",
    "\n",
    "extend() can be used to combine certain lists or any other iterable such as tuples, lists, sets \n",
    "#### Example below "
   ]
  },
  {
   "cell_type": "code",
   "execution_count": 150,
   "id": "0b0fa3cb",
   "metadata": {},
   "outputs": [
    {
     "name": "stdout",
     "output_type": "stream",
     "text": [
      "['Ford', 'Mercedes', 'BMW', 'MINI', 'Toyota', 'Range Rover', 'Dodge']\n",
      "['Ford', 'Mercedes', 'BMW', 'MINI', 'Toyota', 'Range Rover', 'Dodge', 'Ducati', 'Harley Davidson', 'Indian', 'Kawasaki', 'Yamaha']\n"
     ]
    }
   ],
   "source": [
    "Car_makes = [\"Ford\", \"Mercedes\", \"BMW\", \"MINI\", \"Toyota\", \"Range Rover\"] \n",
    "Car_makes.append(\"Dodge\")\n",
    "\n",
    "print(Car_makes, sep='    \\n      ')\n",
    "Motorcycle_makes = [\"Ducati\", \"Harley Davidson\", \"Indian\", \"Kawasaki\", \"Yamaha\"]\n",
    "\n",
    "Car_makes.extend(Motorcycle_makes) #extend()\n",
    "\n",
    "print(Car_makes)"
   ]
  },
  {
   "cell_type": "markdown",
   "id": "fc990fa3",
   "metadata": {},
   "source": [
    "# iii. insert() \n",
    "\n",
    "insert() is used to insert a value in a specific place in a list\n",
    "#### Example below"
   ]
  },
  {
   "cell_type": "code",
   "execution_count": 167,
   "id": "e2640850",
   "metadata": {},
   "outputs": [
    {
     "name": "stdout",
     "output_type": "stream",
     "text": [
      "\u001b[1mOriginal List of Cars:  \u001b[0m \n",
      " ['Ford', 'Mercedes', 'BMW', 'MINI', 'Toyota', 'Range Rover', 'Dodge']\n",
      "\u001b[1mOriginal List of Motorcycles:  \u001b[0m \n",
      " ['Ducati', 'Harley Davidson', 'Indian', 'Kawasaki', 'Yamaha']\n",
      "\u001b[1mNew Vehicle List:  \u001b[0m \n",
      " ['Subaru', 'Ford', 'Mercedes', 'BMW', 'MINI', 'Toyota', 'Range Rover', 'Dodge', 'Ducati', 'Harley Davidson', 'Indian', 'Kawasaki', 'Yamaha']\n"
     ]
    }
   ],
   "source": [
    "Car_makes = [\"Ford\", \"Mercedes\", \"BMW\", \"MINI\", \"Toyota\", \"Range Rover\"] #standard Car make list \n",
    "Motorcycle_makes = [\"Ducati\", \"Harley Davidson\", \"Indian\", \"Kawasaki\", \"Yamaha\"] \n",
    "vehicle_list = []\n",
    "Car_makes.append(\"Dodge\") #append()\n",
    "print(color.BOLD + \"Original List of Cars:  \" + color.END, Car_makes, sep=' \\n ')\n",
    "print(color.BOLD + \"Original List of Motorcycles:  \" + color.END, Motorcycle_makes, sep=' \\n ')\n",
    "\n",
    "\n",
    "\n",
    "Car_makes.insert(0, \"Subaru\")    #insert()\n",
    "Car_makes.extend(Motorcycle_makes) #extend()\n",
    "\n",
    "print(color.BOLD + \"New Vehicle List:  \" + color.END, Car_makes, sep=' \\n ')"
   ]
  },
  {
   "cell_type": "markdown",
   "id": "11272f7e",
   "metadata": {},
   "source": [
    "# iv. remove()\n",
    "\n",
    "remove() function will remove the first item from a specific value\n",
    "\n",
    "#### Example below"
   ]
  },
  {
   "cell_type": "code",
   "execution_count": 152,
   "id": "e92360c4",
   "metadata": {},
   "outputs": [
    {
     "name": "stdout",
     "output_type": "stream",
     "text": [
      "Updated Car makes: \n",
      " ['Subaru', 'Mercedes', 'BMW', 'MINI', 'Toyota', 'Range Rover', 'Dodge', 'Ducati', 'Harley Davidson', 'Indian', 'Kawasaki', 'Yamaha']\n"
     ]
    }
   ],
   "source": [
    "Car_makes \n",
    "Car_makes.remove(\"Ford\")  #remove()\n",
    "\n",
    "print(\"Updated Car makes:\", Car_makes, sep=' \\n ')"
   ]
  },
  {
   "cell_type": "markdown",
   "id": "382e2720",
   "metadata": {},
   "source": [
    "# v. count() \n",
    "\n",
    "count() function is used to return the number of values that appear for a specific value. \n",
    "\n",
    "#### Example below"
   ]
  },
  {
   "cell_type": "code",
   "execution_count": 153,
   "id": "2ffd1184",
   "metadata": {},
   "outputs": [
    {
     "name": "stdout",
     "output_type": "stream",
     "text": [
      "2\n"
     ]
    }
   ],
   "source": [
    "hats = ['red', 'blue', 'orange', 'black', 'yellow', 'red']\n",
    "x = hats.count('red') #count()\n",
    "print(x)"
   ]
  },
  {
   "cell_type": "markdown",
   "id": "d76b0ac3",
   "metadata": {},
   "source": [
    "# vi. index() \n",
    "\n",
    "index() is used to find the position of a specific value \n",
    "\n",
    "#### Example below"
   ]
  },
  {
   "cell_type": "code",
   "execution_count": 154,
   "id": "bf523b4e",
   "metadata": {},
   "outputs": [
    {
     "name": "stdout",
     "output_type": "stream",
     "text": [
      "2\n"
     ]
    }
   ],
   "source": [
    "hats = ['red', 'blue', 'orange', 'black', 'yellow', 'red']\n",
    "x = hats.count('red') #count()\n",
    "y = hats.index('orange')\n",
    "print(y)"
   ]
  },
  {
   "cell_type": "markdown",
   "id": "8fd181fd",
   "metadata": {},
   "source": [
    "# vii. pop() \n",
    "\n",
    "pop() function will remove an element from a specified position \n",
    "\n",
    "#### Example below"
   ]
  },
  {
   "cell_type": "code",
   "execution_count": 155,
   "id": "2dbbaf11",
   "metadata": {},
   "outputs": [
    {
     "name": "stdout",
     "output_type": "stream",
     "text": [
      "['cats', 'dogs', 'zebras', 'lions']\n"
     ]
    }
   ],
   "source": [
    "animals = ['cats', 'dogs', 'rats', 'zebras', 'lions'] \n",
    "animals.pop(2) \n",
    "print(animals)"
   ]
  },
  {
   "cell_type": "markdown",
   "id": "dedecbf5",
   "metadata": {},
   "source": [
    "# viii. sorted() \n",
    "\n",
    "sorted() function is used to create a new list that contains a sorted version of the original list rather than modifying the original list \n",
    "\n",
    "#### Example below"
   ]
  },
  {
   "cell_type": "code",
   "execution_count": 156,
   "id": "3374d594",
   "metadata": {},
   "outputs": [
    {
     "name": "stdout",
     "output_type": "stream",
     "text": [
      "['BMW', 'Ford', 'MINI', 'Mercedes', 'Range Rover', 'Toyota']\n"
     ]
    }
   ],
   "source": [
    "Car_makes = [\"Ford\", \"Mercedes\", \"BMW\", \"MINI\", \"Toyota\", \"Range Rover\"]\n",
    "newlist = sorted(Car_makes)  # sorted()\n",
    "print(newlist)"
   ]
  },
  {
   "cell_type": "markdown",
   "id": "ec5a04ac",
   "metadata": {},
   "source": [
    "# ix. copy() \n",
    "\n",
    "copy() function returns a copy of a specific dictionary \n",
    "\n",
    "#### Example below"
   ]
  },
  {
   "cell_type": "code",
   "execution_count": 157,
   "id": "b0d2833d",
   "metadata": {},
   "outputs": [
    {
     "name": "stdout",
     "output_type": "stream",
     "text": [
      "['BMW', 'Ford', 'MINI', 'Mercedes', 'Range Rover', 'Toyota']\n",
      "['Ford', 'Mercedes', 'BMW', 'MINI', 'Toyota', 'Range Rover']\n"
     ]
    }
   ],
   "source": [
    "Car_makes = [\"Ford\", \"Mercedes\", \"BMW\", \"MINI\", \"Toyota\", \"Range Rover\"]\n",
    "c = Car_makes.copy() # copy()\n",
    "print(newlist)\n",
    "print(c) \n"
   ]
  },
  {
   "cell_type": "markdown",
   "id": "ad9de1a4",
   "metadata": {},
   "source": [
    "# x. clear() \n",
    "\n",
    "clear() function will remove all elements from a dictionary \n",
    "\n",
    "#### Example below"
   ]
  },
  {
   "cell_type": "code",
   "execution_count": 158,
   "id": "97bfd40d",
   "metadata": {},
   "outputs": [
    {
     "name": "stdout",
     "output_type": "stream",
     "text": [
      "['Ford', 'Mercedes', 'BMW', 'MINI', 'Toyota', 'Range Rover']\n",
      "[]\n"
     ]
    }
   ],
   "source": [
    "print(c) # c is the copy of the list above\n",
    "c.clear() \n",
    "print(c)"
   ]
  },
  {
   "cell_type": "markdown",
   "id": "57955f03",
   "metadata": {},
   "source": [
    "# xi. any() \n",
    "\n",
    "any() function will return True if iterable is true, else it returns False \n",
    "\n",
    "#### Example below"
   ]
  },
  {
   "cell_type": "code",
   "execution_count": 159,
   "id": "a0220528",
   "metadata": {},
   "outputs": [
    {
     "name": "stdout",
     "output_type": "stream",
     "text": [
      "True\n",
      "False\n"
     ]
    }
   ],
   "source": [
    "list1 = [8, 5, False]\n",
    "t = any(list1) \n",
    "print(t)\n",
    "\n",
    "### \n",
    "list3 = []\n",
    "x = any(list3)\n",
    "print(x)"
   ]
  },
  {
   "cell_type": "markdown",
   "id": "751b1ee2",
   "metadata": {},
   "source": [
    "# xii. filter() \n",
    "\n",
    "filter() function will filter items through a function to see if the item is accepeted or not\n",
    "\n",
    "#### Example below"
   ]
  },
  {
   "cell_type": "code",
   "execution_count": 160,
   "id": "9baf1cfa",
   "metadata": {},
   "outputs": [
    {
     "name": "stdout",
     "output_type": "stream",
     "text": [
      "22\n",
      "23\n",
      "24\n"
     ]
    }
   ],
   "source": [
    "kids_ages = [18, 19, 20,21,22,23,24] \n",
    "\n",
    "def age_filter(x): \n",
    "    if x < 22: \n",
    "        return False\n",
    "    else: \n",
    "        return True \n",
    "brett = filter(age_filter,kids_ages) # filter()\n",
    "\n",
    "for x in brett: \n",
    "    print(x)"
   ]
  },
  {
   "cell_type": "markdown",
   "id": "17e98c89",
   "metadata": {},
   "source": [
    "# xiii. list() \n",
    "\n",
    "list() function will create a list object \n",
    "\n",
    "#### Example below"
   ]
  },
  {
   "cell_type": "code",
   "execution_count": 161,
   "id": "d8670104",
   "metadata": {},
   "outputs": [
    {
     "data": {
      "text/plain": [
       "['candy', 'veggies', 'meat', 'bread']"
      ]
     },
     "execution_count": 161,
     "metadata": {},
     "output_type": "execute_result"
    }
   ],
   "source": [
    "u = list((\"candy\", \"veggies\", \"meat\", \"bread\"))\n",
    "u"
   ]
  },
  {
   "cell_type": "markdown",
   "id": "16268f33",
   "metadata": {},
   "source": [
    "# xiv. map() \n",
    "\n",
    "map() will apply a function on all the items of an iterator given as input \n",
    "\n",
    "#### Example below"
   ]
  },
  {
   "cell_type": "code",
   "execution_count": 162,
   "id": "a8953b81",
   "metadata": {},
   "outputs": [
    {
     "name": "stdout",
     "output_type": "stream",
     "text": [
      "<map object at 0x7fa2a8babb80>\n",
      "[50000, 73982, 850432, 453923, -26437]\n"
     ]
    }
   ],
   "source": [
    "def profit_calc(n): \n",
    "    return n-50000 \n",
    "gross_income = [100000,123982,900432, 503923,23563] \n",
    "final_profit = map(profit_calc, gross_income) \n",
    "print(final_profit) \n",
    "print(list(final_profit))\n"
   ]
  },
  {
   "cell_type": "markdown",
   "id": "7b6ff4d5",
   "metadata": {},
   "source": [
    "# b. \n",
    "\n",
    "# i. cmp() \n",
    "\n",
    "cmp() will compare elements from two different tuples \n",
    "\n",
    "#### Example below"
   ]
  },
  {
   "cell_type": "code",
   "execution_count": 163,
   "id": "47d435fe",
   "metadata": {},
   "outputs": [
    {
     "data": {
      "text/plain": [
       "-1"
      ]
     },
     "execution_count": 163,
     "metadata": {},
     "output_type": "execute_result"
    }
   ],
   "source": [
    "#Since cmp() technically does not work in Python 3, I will define it myself\n",
    "def cmp(a,b): \n",
    "    return (a>b) - (a<b)\n",
    "\n",
    "tuple1 = (8)\n",
    "tuple2 = (9) \n",
    "cmp(tuple1,tuple2)"
   ]
  },
  {
   "cell_type": "markdown",
   "id": "3820de6c",
   "metadata": {},
   "source": [
    "# ii. len() \n",
    "\n",
    "len() function in tuples will return the amount of elements within a tuple \n",
    "\n",
    "#### Example below"
   ]
  },
  {
   "cell_type": "code",
   "execution_count": 164,
   "id": "957d3c2c",
   "metadata": {},
   "outputs": [
    {
     "data": {
      "text/plain": [
       "5"
      ]
     },
     "execution_count": 164,
     "metadata": {},
     "output_type": "execute_result"
    }
   ],
   "source": [
    "Products = ('Video games', 'Movies', 'Computers', 'Grocerys', 'Clothes')\n",
    "len(Products)"
   ]
  },
  {
   "cell_type": "markdown",
   "id": "f6baeb36",
   "metadata": {},
   "source": [
    "# iii. max() \n",
    "\n",
    "max() function in tuples output the largest element within a tuple \n",
    "\n",
    "#### Example below"
   ]
  },
  {
   "cell_type": "code",
   "execution_count": 165,
   "id": "4a12a0a3",
   "metadata": {},
   "outputs": [
    {
     "data": {
      "text/plain": [
       "4.11"
      ]
     },
     "execution_count": 165,
     "metadata": {},
     "output_type": "execute_result"
    }
   ],
   "source": [
    "Historic_gas_cost = (2.34,4.00,1.34,3.17,3.43,3.87,3.99,4.01,4.11) \n",
    "max(Historic_gas_cost)"
   ]
  },
  {
   "cell_type": "markdown",
   "id": "e9fd4887",
   "metadata": {},
   "source": [
    "# iv. tuple(seq)\n",
    "tuple(seq) function will convert a list of items into a tuple\n",
    "\n",
    "#### Example below"
   ]
  },
  {
   "cell_type": "code",
   "execution_count": 166,
   "id": "6d533ff3",
   "metadata": {},
   "outputs": [
    {
     "ename": "AttributeError",
     "evalue": "'list' object has no attribute 'tuple'",
     "output_type": "error",
     "traceback": [
      "\u001b[0;31m---------------------------------------------------------------------------\u001b[0m",
      "\u001b[0;31mAttributeError\u001b[0m                            Traceback (most recent call last)",
      "\u001b[0;32m<ipython-input-166-d932ab22f84d>\u001b[0m in \u001b[0;36m<module>\u001b[0;34m\u001b[0m\n\u001b[1;32m      1\u001b[0m \u001b[0mlist4\u001b[0m \u001b[0;34m=\u001b[0m \u001b[0;34m[\u001b[0m\u001b[0;34m'Bed'\u001b[0m\u001b[0;34m,\u001b[0m \u001b[0;34m'Couch'\u001b[0m\u001b[0;34m,\u001b[0m \u001b[0;34m'Desk'\u001b[0m\u001b[0;34m,\u001b[0m \u001b[0;34m'Closet'\u001b[0m\u001b[0;34m,\u001b[0m \u001b[0;34m'Nightstand'\u001b[0m\u001b[0;34m,\u001b[0m \u001b[0;34m'lamp'\u001b[0m\u001b[0;34m]\u001b[0m\u001b[0;34m\u001b[0m\u001b[0;34m\u001b[0m\u001b[0m\n\u001b[0;32m----> 2\u001b[0;31m \u001b[0mtuple5\u001b[0m \u001b[0;34m=\u001b[0m \u001b[0mlist4\u001b[0m\u001b[0;34m.\u001b[0m\u001b[0mtuple\u001b[0m\u001b[0;34m(\u001b[0m\u001b[0;34m)\u001b[0m\u001b[0;34m\u001b[0m\u001b[0;34m\u001b[0m\u001b[0m\n\u001b[0m\u001b[1;32m      3\u001b[0m \u001b[0mprint\u001b[0m\u001b[0;34m(\u001b[0m\u001b[0mlist4\u001b[0m\u001b[0;34m)\u001b[0m\u001b[0;34m\u001b[0m\u001b[0;34m\u001b[0m\u001b[0m\n\u001b[1;32m      4\u001b[0m \u001b[0;34m\u001b[0m\u001b[0m\n\u001b[1;32m      5\u001b[0m \u001b[0;31m#Not sure what what I am doing wrong with this one. I can not seem to get it to work properly\u001b[0m\u001b[0;34m\u001b[0m\u001b[0;34m\u001b[0m\u001b[0;34m\u001b[0m\u001b[0m\n",
      "\u001b[0;31mAttributeError\u001b[0m: 'list' object has no attribute 'tuple'"
     ]
    }
   ],
   "source": [
    "list4 = ['Bed', 'Couch', 'Desk', 'Closet', 'Nightstand', 'lamp']\n",
    "tuple5 = list4.tuple()\n",
    "print(list4) \n",
    "\n",
    "#Not sure what what I am doing wrong with this one. I can not seem to get it to work properly"
   ]
  },
  {
   "cell_type": "code",
   "execution_count": null,
   "id": "efbed986",
   "metadata": {},
   "outputs": [],
   "source": []
  },
  {
   "cell_type": "code",
   "execution_count": null,
   "id": "bc277478",
   "metadata": {},
   "outputs": [],
   "source": []
  },
  {
   "cell_type": "code",
   "execution_count": null,
   "id": "2860da26",
   "metadata": {},
   "outputs": [],
   "source": []
  },
  {
   "cell_type": "code",
   "execution_count": null,
   "id": "c0c874a1",
   "metadata": {},
   "outputs": [],
   "source": []
  },
  {
   "cell_type": "code",
   "execution_count": null,
   "id": "4deb566e",
   "metadata": {},
   "outputs": [],
   "source": []
  }
 ],
 "metadata": {
  "kernelspec": {
   "display_name": "Python 3",
   "language": "python",
   "name": "python3"
  },
  "language_info": {
   "codemirror_mode": {
    "name": "ipython",
    "version": 3
   },
   "file_extension": ".py",
   "mimetype": "text/x-python",
   "name": "python",
   "nbconvert_exporter": "python",
   "pygments_lexer": "ipython3",
   "version": "3.8.8"
  }
 },
 "nbformat": 4,
 "nbformat_minor": 5
}
